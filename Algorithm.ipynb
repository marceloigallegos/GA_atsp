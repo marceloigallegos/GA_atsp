{
 "cells": [
  {
   "cell_type": "markdown",
   "metadata": {},
   "source": [
    "## GA implementado para resolver ATSP"
   ]
  },
  {
   "cell_type": "code",
   "execution_count": 41,
   "metadata": {},
   "outputs": [],
   "source": [
    "__author__ = \"Marcelo Gallegos\""
   ]
  },
  {
   "cell_type": "code",
   "execution_count": 21,
   "metadata": {},
   "outputs": [],
   "source": [
    "import numpy as np\n",
    "import random\n",
    "import os\n",
    "import operator\n",
    "import pandas as pd\n",
    "import matplotlib.pyplot as plt"
   ]
  },
  {
   "cell_type": "code",
   "execution_count": 22,
   "metadata": {},
   "outputs": [],
   "source": [
    "mainpath = os.getcwd()\n",
    "\n",
    "#\n",
    "mDistancia = pd.read_csv(mainpath + '\\ExampleInstance' + '.txt',delim_whitespace=True, header = None)"
   ]
  },
  {
   "cell_type": "code",
   "execution_count": 23,
   "metadata": {},
   "outputs": [],
   "source": [
    "class Fitness:\n",
    "    def __init__(self, circuito):\n",
    "        self.circuito = circuito\n",
    "        self.distancia = 0\n",
    "        self.fitness= 0.0\n",
    "    \n",
    "    def circuitoDistancia(self):\n",
    "        if self.distancia ==0:\n",
    "            rutaDistancia = 0\n",
    "            for i in range(0, len(self.circuito)):\n",
    "                desdeNodo = self.circuito[i]\n",
    "                haciaNodo = None\n",
    "                if i + 1 < len(self.circuito):\n",
    "                    haciaNodo = self.circuito[i + 1]\n",
    "                else:\n",
    "                    haciaNodo = self.circuito[0]\n",
    "                rutaDistancia += desdeNodo.distancia(haciaNodo)\n",
    "            self.distancia = rutaDistancia\n",
    "        return self.distancia\n",
    "    \n",
    "    def circuitoFitness(self):\n",
    "        if self.fitness == 0:\n",
    "            self.fitness = 1 / float(self.circuitoDistancia())\n",
    "        return self.fitness"
   ]
  },
  {
   "cell_type": "code",
   "execution_count": 24,
   "metadata": {},
   "outputs": [],
   "source": [
    "def crearCircuito(ListaNodo):\n",
    "    circuito = random.sample(ListaNodo, len(ListaNodo))\n",
    "    return circuito"
   ]
  },
  {
   "cell_type": "code",
   "execution_count": 25,
   "metadata": {},
   "outputs": [],
   "source": [
    "def rankearCircuito(poblacion):\n",
    "    t_fitness = {}\n",
    "    for i in range(0,len(poblacion)):\n",
    "        t_fitness[i] = Fitness(poblacion[i]).circuitoFitness()\n",
    "    return sorted(t_fitness.items(), key = operator.itemgetter(1), reverse = True)"
   ]
  },
  {
   "cell_type": "code",
   "execution_count": 26,
   "metadata": {},
   "outputs": [],
   "source": [
    "class Nodo:\n",
    "    def __init__(self, n):\n",
    "        self.n = n\n",
    "    \n",
    "    def distancia(self, nodo):\n",
    "        i = self.n\n",
    "        j = nodo.n\n",
    "        distancia = mDistancia[i][j]\n",
    "        return distancia\n",
    "    \n",
    "    def __repr__(self):\n",
    "        return \"Nodo:\" + str(self.n+1)"
   ]
  },
  {
   "cell_type": "code",
   "execution_count": 27,
   "metadata": {},
   "outputs": [],
   "source": [
    "def poblacionInicial(n_Poblacion, ListaNodo):\n",
    "    poblacion = []\n",
    "\n",
    "    for i in range(0, n_Poblacion):\n",
    "        poblacion.append(crearCircuito(ListaNodo))\n",
    "    return poblacion"
   ]
  },
  {
   "cell_type": "code",
   "execution_count": 28,
   "metadata": {},
   "outputs": [],
   "source": [
    "def Seleccion(poblacionOrdenada, n_Elite):\n",
    "    Resultado = []\n",
    "    df = pd.DataFrame(np.array(poblacionOrdenada), columns=[\"Index\",\"Fitness\"])\n",
    "    df['cum_sum'] = df.Fitness.cumsum()\n",
    "    df['cum_perc'] = 100*df.cum_sum/df.Fitness.sum()\n",
    "    \n",
    "    for i in range(0, n_Elite):\n",
    "        Resultado.append(poblacionOrdenada[i][0])\n",
    "    for i in range(0, len(poblacionOrdenada) - n_Elite):\n",
    "        seleccion = 100*random.random()\n",
    "        for i in range(0, len(poblacionOrdenada)):\n",
    "            if seleccion <= df.iat[i,3]:\n",
    "                Resultado.append(poblacionOrdenada[i][0])\n",
    "                break\n",
    "    return Resultado"
   ]
  },
  {
   "cell_type": "code",
   "execution_count": 29,
   "metadata": {},
   "outputs": [],
   "source": [
    "def Cruzamiento(poblacion, Resultado):\n",
    "    Cruzamiento = []\n",
    "    for i in range(0, len(Resultado)):\n",
    "        index = Resultado[i]\n",
    "        Cruzamiento.append(poblacion[index])\n",
    "    return Cruzamiento"
   ]
  },
  {
   "cell_type": "code",
   "execution_count": 30,
   "metadata": {},
   "outputs": [],
   "source": [
    "def Descendencia(Padre_a, Padre_b):\n",
    "    Hijo = []\n",
    "    HijoPadre_a = []\n",
    "    HijoPadre_b = []\n",
    "    \n",
    "    genPadre_a = int(random.random() * len(Padre_a))\n",
    "    genPadre_b = int(random.random() * len(Padre_b))\n",
    "    \n",
    "    GenInicio = min(genPadre_a, genPadre_b)\n",
    "    GenTermino = max(genPadre_a, genPadre_b)\n",
    "\n",
    "    for i in range(GenInicio, GenTermino):\n",
    "        HijoPadre_a.append(Padre_a[i])\n",
    "    HijoPadre_b = [item for item in Padre_b if item not in HijoPadre_a]\n",
    "\n",
    "    Hijo = HijoPadre_a + HijoPadre_b\n",
    "    return Hijo"
   ]
  },
  {
   "cell_type": "code",
   "execution_count": 31,
   "metadata": {},
   "outputs": [],
   "source": [
    "def DescendenciaPoblacion(Cruzamiento, n_Elite):\n",
    "    Hijos = []\n",
    "    length = len(Cruzamiento) - n_Elite\n",
    "    pool = random.sample(Cruzamiento, len(Cruzamiento))\n",
    "    for i in range(0, n_Elite):\n",
    "        Hijos.append(Cruzamiento[i])\n",
    "    \n",
    "    for i in range(0, length):\n",
    "        Hijo = Descendencia(pool[i], pool[len(Cruzamiento)-i-1])\n",
    "        Hijos.append(Hijo)\n",
    "    return Hijos"
   ]
  },
  {
   "cell_type": "code",
   "execution_count": 32,
   "metadata": {},
   "outputs": [],
   "source": [
    "def Mutacion(Individuo, p_Mutacion):\n",
    "    for cruzado1 in range(len(Individuo)):\n",
    "        if(random.random() < p_Mutacion):\n",
    "            cruzado2 = int(random.random() * len(Individuo))\n",
    "            \n",
    "            Nodo1 = Individuo[cruzado1]\n",
    "            Nodo2 = Individuo[cruzado2]\n",
    "            \n",
    "            Individuo[cruzado1] = Nodo2\n",
    "            Individuo[cruzado2] = Nodo1\n",
    "    return Individuo"
   ]
  },
  {
   "cell_type": "code",
   "execution_count": 33,
   "metadata": {},
   "outputs": [],
   "source": [
    "def MutacionPoblacion(poblacion, p_Mutacion):\n",
    "    PoblacionMutada = []\n",
    "    \n",
    "    for ind in range(0, len(poblacion)):\n",
    "        IndividuoMutado = Mutacion(poblacion[ind], p_Mutacion)\n",
    "        PoblacionMutada.append(IndividuoMutado)\n",
    "    return PoblacionMutada"
   ]
  },
  {
   "cell_type": "code",
   "execution_count": 34,
   "metadata": {},
   "outputs": [],
   "source": [
    "def GeneracionDescendiente(Cromosoma, n_Elite, p_Mutacion):\n",
    "    PoblacionOrdenada = rankearCircuito(Cromosoma)\n",
    "    Resultado = Seleccion(PoblacionOrdenada, n_Elite)\n",
    "    Cruza = Cruzamiento(Cromosoma, Resultado)\n",
    "    Hijos = DescendenciaPoblacion(Cruza, n_Elite)\n",
    "    Descendientes = MutacionPoblacion(Hijos, p_Mutacion)\n",
    "    return Descendientes"
   ]
  },
  {
   "cell_type": "code",
   "execution_count": 35,
   "metadata": {},
   "outputs": [],
   "source": [
    "def Algoritmo(poblacion, n_Poblacion, n_Elite, p_Mutacion, generaciones):\n",
    "    ga_poblacion = poblacionInicial(n_Poblacion, poblacion)\n",
    "    print(\"Distancia Inicial: \" + str(1 / rankearCircuito(ga_poblacion)[0][1]))\n",
    "    \n",
    "    for i in range(0, generaciones):\n",
    "        ga_poblacion = GeneracionDescendiente(ga_poblacion, n_Elite, p_Mutacion)\n",
    "    \n",
    "    print(\"Distancia Final (Solucion): \" + str(1 / rankearCircuito(ga_poblacion)[0][1]))\n",
    "    mejorCircuitoIndex = rankearCircuito(ga_poblacion)[0][0]\n",
    "    mejorCircuito = ga_poblacion[mejorCircuitoIndex]\n",
    "    return mejorCircuito"
   ]
  },
  {
   "cell_type": "code",
   "execution_count": 36,
   "metadata": {},
   "outputs": [],
   "source": [
    "ListaNodo = []\n",
    "\n",
    "for j in range(0,len(mDistancia)):\n",
    "    ListaNodo.append(Nodo(n=j))"
   ]
  },
  {
   "cell_type": "markdown",
   "metadata": {},
   "source": [
    "Parámetros"
   ]
  },
  {
   "cell_type": "code",
   "execution_count": 37,
   "metadata": {},
   "outputs": [],
   "source": [
    "poblacion = ListaNodo #This parameter is automatically defined with \"ListaNodo\".\n",
    "n_Poblacion = 200 #Population size to generate / iterate.\n",
    "n_Elite = 40 #Size of the set of individuals selected under elitist criteria in each generation.\n",
    "p_Mutacion = 0.001 #Mutation Probability of the offspring of each generation (1% = 0.01)\n",
    "generaciones = 800 #Number of generations"
   ]
  },
  {
   "cell_type": "markdown",
   "metadata": {},
   "source": [
    "Ejecución y Resultado"
   ]
  },
  {
   "cell_type": "code",
   "execution_count": 38,
   "metadata": {},
   "outputs": [
    {
     "name": "stdout",
     "output_type": "stream",
     "text": [
      "Distancia Inicial: 4695.0\n",
      "Distancia Final (Solucion): 2128.0\n"
     ]
    },
    {
     "data": {
      "text/plain": [
       "[Nodo:109,\n",
       " Nodo:7,\n",
       " Nodo:188,\n",
       " Nodo:191,\n",
       " Nodo:86,\n",
       " Nodo:27,\n",
       " Nodo:56,\n",
       " Nodo:156,\n",
       " Nodo:19,\n",
       " Nodo:37,\n",
       " Nodo:31,\n",
       " Nodo:128,\n",
       " Nodo:186,\n",
       " Nodo:159,\n",
       " Nodo:147,\n",
       " Nodo:20,\n",
       " Nodo:179,\n",
       " Nodo:39,\n",
       " Nodo:74,\n",
       " Nodo:69,\n",
       " Nodo:196,\n",
       " Nodo:23,\n",
       " Nodo:33,\n",
       " Nodo:32,\n",
       " Nodo:47,\n",
       " Nodo:77,\n",
       " Nodo:180,\n",
       " Nodo:176,\n",
       " Nodo:131,\n",
       " Nodo:15,\n",
       " Nodo:195,\n",
       " Nodo:106,\n",
       " Nodo:76,\n",
       " Nodo:16,\n",
       " Nodo:198,\n",
       " Nodo:138,\n",
       " Nodo:18,\n",
       " Nodo:199,\n",
       " Nodo:98,\n",
       " Nodo:28,\n",
       " Nodo:26,\n",
       " Nodo:30,\n",
       " Nodo:49,\n",
       " Nodo:150,\n",
       " Nodo:6,\n",
       " Nodo:70,\n",
       " Nodo:72,\n",
       " Nodo:187,\n",
       " Nodo:126,\n",
       " Nodo:60,\n",
       " Nodo:140,\n",
       " Nodo:54,\n",
       " Nodo:53,\n",
       " Nodo:48,\n",
       " Nodo:50,\n",
       " Nodo:67,\n",
       " Nodo:8,\n",
       " Nodo:13,\n",
       " Nodo:161,\n",
       " Nodo:170,\n",
       " Nodo:166,\n",
       " Nodo:116,\n",
       " Nodo:139,\n",
       " Nodo:59,\n",
       " Nodo:158,\n",
       " Nodo:90,\n",
       " Nodo:97,\n",
       " Nodo:22,\n",
       " Nodo:29,\n",
       " Nodo:58,\n",
       " Nodo:160,\n",
       " Nodo:169,\n",
       " Nodo:194,\n",
       " Nodo:192,\n",
       " Nodo:129,\n",
       " Nodo:136,\n",
       " Nodo:125,\n",
       " Nodo:122,\n",
       " Nodo:123,\n",
       " Nodo:181,\n",
       " Nodo:182,\n",
       " Nodo:95,\n",
       " Nodo:94,\n",
       " Nodo:93,\n",
       " Nodo:91,\n",
       " Nodo:81,\n",
       " Nodo:24,\n",
       " Nodo:63,\n",
       " Nodo:175,\n",
       " Nodo:171,\n",
       " Nodo:174,\n",
       " Nodo:45,\n",
       " Nodo:52,\n",
       " Nodo:71,\n",
       " Nodo:61,\n",
       " Nodo:121,\n",
       " Nodo:134,\n",
       " Nodo:114,\n",
       " Nodo:107,\n",
       " Nodo:101,\n",
       " Nodo:112,\n",
       " Nodo:110,\n",
       " Nodo:120,\n",
       " Nodo:118,\n",
       " Nodo:80,\n",
       " Nodo:99,\n",
       " Nodo:83,\n",
       " Nodo:40,\n",
       " Nodo:35,\n",
       " Nodo:21,\n",
       " Nodo:51,\n",
       " Nodo:141,\n",
       " Nodo:153,\n",
       " Nodo:151,\n",
       " Nodo:108,\n",
       " Nodo:190,\n",
       " Nodo:200,\n",
       " Nodo:36,\n",
       " Nodo:38,\n",
       " Nodo:57,\n",
       " Nodo:157,\n",
       " Nodo:17,\n",
       " Nodo:1,\n",
       " Nodo:4,\n",
       " Nodo:163,\n",
       " Nodo:43,\n",
       " Nodo:42,\n",
       " Nodo:41,\n",
       " Nodo:143,\n",
       " Nodo:85,\n",
       " Nodo:92,\n",
       " Nodo:87,\n",
       " Nodo:88,\n",
       " Nodo:89,\n",
       " Nodo:100,\n",
       " Nodo:96,\n",
       " Nodo:84,\n",
       " Nodo:34,\n",
       " Nodo:152,\n",
       " Nodo:149,\n",
       " Nodo:146,\n",
       " Nodo:155,\n",
       " Nodo:2,\n",
       " Nodo:142,\n",
       " Nodo:82,\n",
       " Nodo:25,\n",
       " Nodo:55,\n",
       " Nodo:46,\n",
       " Nodo:66,\n",
       " Nodo:148,\n",
       " Nodo:10,\n",
       " Nodo:167,\n",
       " Nodo:12,\n",
       " Nodo:154,\n",
       " Nodo:3,\n",
       " Nodo:133,\n",
       " Nodo:115,\n",
       " Nodo:75,\n",
       " Nodo:145,\n",
       " Nodo:144,\n",
       " Nodo:11,\n",
       " Nodo:68,\n",
       " Nodo:78,\n",
       " Nodo:79,\n",
       " Nodo:193,\n",
       " Nodo:132,\n",
       " Nodo:135,\n",
       " Nodo:127,\n",
       " Nodo:130,\n",
       " Nodo:177,\n",
       " Nodo:137,\n",
       " Nodo:103,\n",
       " Nodo:104,\n",
       " Nodo:184,\n",
       " Nodo:183,\n",
       " Nodo:165,\n",
       " Nodo:105,\n",
       " Nodo:65,\n",
       " Nodo:5,\n",
       " Nodo:162,\n",
       " Nodo:164,\n",
       " Nodo:44,\n",
       " Nodo:73,\n",
       " Nodo:9,\n",
       " Nodo:168,\n",
       " Nodo:178,\n",
       " Nodo:173,\n",
       " Nodo:124,\n",
       " Nodo:64,\n",
       " Nodo:14,\n",
       " Nodo:197,\n",
       " Nodo:117,\n",
       " Nodo:113,\n",
       " Nodo:111,\n",
       " Nodo:62,\n",
       " Nodo:185,\n",
       " Nodo:172,\n",
       " Nodo:102,\n",
       " Nodo:189,\n",
       " Nodo:119]"
      ]
     },
     "execution_count": 38,
     "metadata": {},
     "output_type": "execute_result"
    }
   ],
   "source": [
    "Algoritmo(poblacion, n_Poblacion, n_Elite, p_Mutacion, generaciones)"
   ]
  },
  {
   "cell_type": "markdown",
   "metadata": {},
   "source": [
    "Representación gráfica (Distancia del circuito vs Generación)"
   ]
  },
  {
   "cell_type": "code",
   "execution_count": 39,
   "metadata": {},
   "outputs": [],
   "source": [
    "def AlgoritmoPlot(poblacion, n_Poblacion, n_Elite, p_Mutacion, generaciones):\n",
    "    plotPoblacion = poblacionInicial(n_Poblacion, poblacion)\n",
    "    progreso = []\n",
    "    progreso.append(1 / rankearCircuito(plotPoblacion)[0][1])\n",
    "    \n",
    "    for k in range(0, generaciones):\n",
    "        plotPoblacion = GeneracionDescendiente(plotPoblacion, n_Elite, p_Mutacion)\n",
    "        progreso.append(1 / rankearCircuito(plotPoblacion)[0][1])\n",
    "\n",
    "    plt.plot(progreso)\n",
    "    plt.ylabel('Distancia de Circuito')\n",
    "    plt.xlabel('Generacion')\n",
    "    plt.savefig(\"Grafico.png\") #Unblock if you want create a copy of the graph image in the folder\n",
    "    plt.show()"
   ]
  },
  {
   "cell_type": "code",
   "execution_count": 40,
   "metadata": {},
   "outputs": [
    {
     "data": {
      "image/png": "[encoded data removed]",
      "text/plain": [
       "<Figure size 432x288 with 1 Axes>"
      ]
     },
     "metadata": {
      "needs_background": "light"
     },
     "output_type": "display_data"
    }
   ],
   "source": [
    "AlgoritmoPlot(poblacion, n_Poblacion, n_Elite, p_Mutacion, generaciones)"
   ]
  }
 ],
 "metadata": {
  "kernelspec": {
   "display_name": "Python 3",
   "language": "python",
   "name": "python3"
  },
  "language_info": {
   "codemirror_mode": {
    "name": "ipython",
    "version": 3
   },
   "file_extension": ".py",
   "mimetype": "text/x-python",
   "name": "python",
   "nbconvert_exporter": "python",
   "pygments_lexer": "ipython3",
   "version": "3.8.3"
  },
  "toc": {
   "base_numbering": 1,
   "nav_menu": {},
   "number_sections": true,
   "sideBar": true,
   "skip_h1_title": false,
   "title_cell": "Table of Contents",
   "title_sidebar": "Contents",
   "toc_cell": false,
   "toc_position": {},
   "toc_section_display": true,
   "toc_window_display": false
  }
 },
 "nbformat": 4,
 "nbformat_minor": 4
}
