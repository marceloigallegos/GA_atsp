{
 "cells": [
  {
   "cell_type": "markdown",
   "metadata": {},
   "source": [
    "## GA implementado para resolver ATSP"
   ]
  },
  {
   "cell_type": "code",
   "execution_count": null,
   "metadata": {},
   "outputs": [],
   "source": [
    "__author__ = \"Marcelo Gallegos\""
   ]
  },
  {
   "cell_type": "code",
   "execution_count": null,
   "metadata": {},
   "outputs": [],
   "source": [
    "import numpy as np\n",
    "import random\n",
    "import os\n",
    "import operator\n",
    "import pandas as pd\n",
    "import matplotlib.pyplot as plt"
   ]
  },
  {
   "cell_type": "code",
   "execution_count": null,
   "metadata": {},
   "outputs": [],
   "source": [
    "mainpath = os.getcwd()\n",
    "\n",
    "#\n",
    "mDistancia = pd.read_csv(mainpath + '\\ExampleInstance' + '.txt',delim_whitespace=True, header = None)"
   ]
  },
  {
   "cell_type": "code",
   "execution_count": null,
   "metadata": {},
   "outputs": [],
   "source": [
    "class Fitness:\n",
    "    def __init__(self, circuito):\n",
    "        self.circuito = circuito\n",
    "        self.distancia = 0\n",
    "        self.fitness= 0.0\n",
    "    \n",
    "    def circuitoDistancia(self):\n",
    "        if self.distancia ==0:\n",
    "            rutaDistancia = 0\n",
    "            for i in range(0, len(self.circuito)):\n",
    "                desdeNodo = self.circuito[i]\n",
    "                haciaNodo = None\n",
    "                if i + 1 < len(self.circuito):\n",
    "                    haciaNodo = self.circuito[i + 1]\n",
    "                else:\n",
    "                    haciaNodo = self.circuito[0]\n",
    "                rutaDistancia += desdeNodo.distancia(haciaNodo)\n",
    "            self.distancia = rutaDistancia\n",
    "        return self.distancia\n",
    "    \n",
    "    def circuitoFitness(self):\n",
    "        if self.fitness == 0:\n",
    "            self.fitness = 1 / float(self.circuitoDistancia())\n",
    "        return self.fitness"
   ]
  },
  {
   "cell_type": "code",
   "execution_count": null,
   "metadata": {},
   "outputs": [],
   "source": [
    "def crearCircuito(ListaNodo):\n",
    "    circuito = random.sample(ListaNodo, len(ListaNodo))\n",
    "    return circuito"
   ]
  },
  {
   "cell_type": "code",
   "execution_count": null,
   "metadata": {},
   "outputs": [],
   "source": [
    "def rankearCircuito(poblacion):\n",
    "    t_fitness = {}\n",
    "    for i in range(0,len(poblacion)):\n",
    "        t_fitness[i] = Fitness(poblacion[i]).circuitoFitness()\n",
    "    return sorted(t_fitness.items(), key = operator.itemgetter(1), reverse = True)"
   ]
  },
  {
   "cell_type": "code",
   "execution_count": null,
   "metadata": {},
   "outputs": [],
   "source": [
    "class Nodo:\n",
    "    def __init__(self, n):\n",
    "        self.n = n\n",
    "    \n",
    "    def distancia(self, nodo):\n",
    "        i = self.n\n",
    "        j = nodo.n\n",
    "        distancia = mDistancia[i][j]\n",
    "        return distancia\n",
    "    \n",
    "    def __repr__(self):\n",
    "        return \"Nodo:\" + str(self.n+1)"
   ]
  },
  {
   "cell_type": "code",
   "execution_count": null,
   "metadata": {},
   "outputs": [],
   "source": [
    "def poblacionInicial(n_Poblacion, ListaNodo):\n",
    "    poblacion = []\n",
    "\n",
    "    for i in range(0, n_Poblacion):\n",
    "        poblacion.append(crearCircuito(ListaNodo))\n",
    "    return poblacion"
   ]
  },
  {
   "cell_type": "code",
   "execution_count": null,
   "metadata": {},
   "outputs": [],
   "source": [
    "def Seleccion(poblacionOrdenada, n_Elite):\n",
    "    Resultado = []\n",
    "    df = pd.DataFrame(np.array(poblacionOrdenada), columns=[\"Index\",\"Fitness\"])\n",
    "    df['cum_sum'] = df.Fitness.cumsum()\n",
    "    df['cum_perc'] = 100*df.cum_sum/df.Fitness.sum()\n",
    "    \n",
    "    for i in range(0, n_Elite):\n",
    "        Resultado.append(poblacionOrdenada[i][0])\n",
    "    for i in range(0, len(poblacionOrdenada) - n_Elite):\n",
    "        seleccion = 100*random.random()\n",
    "        for i in range(0, len(poblacionOrdenada)):\n",
    "            if seleccion <= df.iat[i,3]:\n",
    "                Resultado.append(poblacionOrdenada[i][0])\n",
    "                break\n",
    "    return Resultado"
   ]
  },
  {
   "cell_type": "code",
   "execution_count": null,
   "metadata": {},
   "outputs": [],
   "source": [
    "def Cruzamiento(poblacion, Resultado):\n",
    "    Cruzamiento = []\n",
    "    for i in range(0, len(Resultado)):\n",
    "        index = Resultado[i]\n",
    "        Cruzamiento.append(poblacion[index])\n",
    "    return Cruzamiento"
   ]
  },
  {
   "cell_type": "code",
   "execution_count": null,
   "metadata": {},
   "outputs": [],
   "source": [
    "def Descendencia(Padre_a, Padre_b):\n",
    "    Hijo = []\n",
    "    HijoPadre_a = []\n",
    "    HijoPadre_b = []\n",
    "    \n",
    "    genPadre_a = int(random.random() * len(Padre_a))\n",
    "    genPadre_b = int(random.random() * len(Padre_b))\n",
    "    \n",
    "    GenInicio = min(genPadre_a, genPadre_b)\n",
    "    GenTermino = max(genPadre_a, genPadre_b)\n",
    "\n",
    "    for i in range(GenInicio, GenTermino):\n",
    "        HijoPadre_a.append(Padre_a[i])\n",
    "    HijoPadre_b = [item for item in Padre_b if item not in HijoPadre_a]\n",
    "\n",
    "    Hijo = HijoPadre_a + HijoPadre_b\n",
    "    return Hijo"
   ]
  },
  {
   "cell_type": "code",
   "execution_count": null,
   "metadata": {},
   "outputs": [],
   "source": [
    "def DescendenciaPoblacion(Cruzamiento, n_Elite):\n",
    "    Hijos = []\n",
    "    length = len(Cruzamiento) - n_Elite\n",
    "    pool = random.sample(Cruzamiento, len(Cruzamiento))\n",
    "    for i in range(0, n_Elite):\n",
    "        Hijos.append(Cruzamiento[i])\n",
    "    \n",
    "    for i in range(0, length):\n",
    "        Hijo = Descendencia(pool[i], pool[len(Cruzamiento)-i-1])\n",
    "        Hijos.append(Hijo)\n",
    "    return Hijos"
   ]
  },
  {
   "cell_type": "code",
   "execution_count": null,
   "metadata": {},
   "outputs": [],
   "source": [
    "def Mutacion(Individuo, p_Mutacion):\n",
    "    for cruzado1 in range(len(Individuo)):\n",
    "        if(random.random() < p_Mutacion):\n",
    "            cruzado2 = int(random.random() * len(Individuo))\n",
    "            \n",
    "            Nodo1 = Individuo[cruzado1]\n",
    "            Nodo2 = Individuo[cruzado2]\n",
    "            \n",
    "            Individuo[cruzado1] = Nodo2\n",
    "            Individuo[cruzado2] = Nodo1\n",
    "    return Individuo"
   ]
  },
  {
   "cell_type": "code",
   "execution_count": null,
   "metadata": {},
   "outputs": [],
   "source": [
    "def MutacionPoblacion(poblacion, p_Mutacion):\n",
    "    PoblacionMutada = []\n",
    "    \n",
    "    for ind in range(0, len(poblacion)):\n",
    "        IndividuoMutado = Mutacion(poblacion[ind], p_Mutacion)\n",
    "        PoblacionMutada.append(IndividuoMutado)\n",
    "    return PoblacionMutada"
   ]
  },
  {
   "cell_type": "code",
   "execution_count": null,
   "metadata": {},
   "outputs": [],
   "source": [
    "def GeneracionDescendiente(Cromosoma, n_Elite, p_Mutacion):\n",
    "    PoblacionOrdenada = rankearCircuito(Cromosoma)\n",
    "    Resultado = Seleccion(PoblacionOrdenada, n_Elite)\n",
    "    Cruza = Cruzamiento(Cromosoma, Resultado)\n",
    "    Hijos = DescendenciaPoblacion(Cruza, n_Elite)\n",
    "    Descendientes = MutacionPoblacion(Hijos, p_Mutacion)\n",
    "    return Descendientes"
   ]
  },
  {
   "cell_type": "code",
   "execution_count": null,
   "metadata": {},
   "outputs": [],
   "source": [
    "def Algoritmo(poblacion, n_Poblacion, n_Elite, p_Mutacion, generaciones):\n",
    "    ga_poblacion = poblacionInicial(n_Poblacion, poblacion)\n",
    "    print(\"Distancia Inicial: \" + str(1 / rankearCircuito(ga_poblacion)[0][1]))\n",
    "    \n",
    "    for i in range(0, generaciones):\n",
    "        ga_poblacion = GeneracionDescendiente(ga_poblacion, n_Elite, p_Mutacion)\n",
    "    \n",
    "    print(\"Distancia Final (Solucion): \" + str(1 / rankearCircuito(ga_poblacion)[0][1]))\n",
    "    mejorCircuitoIndex = rankearCircuito(ga_poblacion)[0][0]\n",
    "    mejorCircuito = ga_poblacion[mejorCircuitoIndex]\n",
    "    return mejorCircuito"
   ]
  },
  {
   "cell_type": "code",
   "execution_count": null,
   "metadata": {},
   "outputs": [],
   "source": [
    "ListaNodo = []\n",
    "\n",
    "for j in range(0,len(mDistancia)):\n",
    "    ListaNodo.append(Nodo(n=j))"
   ]
  },
  {
   "cell_type": "markdown",
   "metadata": {},
   "source": [
    "Parámetros"
   ]
  },
  {
   "cell_type": "code",
   "execution_count": null,
   "metadata": {},
   "outputs": [],
   "source": [
    "poblacion = ListaNodo #This parameter is automatically defined with \"ListaNodo\".\n",
    "n_Poblacion = 200 #Population size to generate / iterate.\n",
    "n_Elite = 40 #Size of the set of individuals selected under elitist criteria in each generation.\n",
    "p_Mutacion = 0.001 #Mutation Probability of the offspring of each generation (1% = 0.01)\n",
    "generaciones = 800 #Number of generations"
   ]
  },
  {
   "cell_type": "markdown",
   "metadata": {},
   "source": [
    "Ejecución y Resultado"
   ]
  },
  {
   "cell_type": "code",
   "execution_count": null,
   "metadata": {},
   "outputs": [],
   "source": [
    "Algoritmo(poblacion, n_Poblacion, n_Elite, p_Mutacion, generaciones)"
   ]
  },
  {
   "cell_type": "markdown",
   "metadata": {},
   "source": [
    "Representación gráfica (Distancia del circuito vs Generación)"
   ]
  },
  {
   "cell_type": "code",
   "execution_count": null,
   "metadata": {},
   "outputs": [],
   "source": [
    "def AlgoritmoPlot(poblacion, n_Poblacion, n_Elite, p_Mutacion, generaciones):\n",
    "    plotPoblacion = poblacionInicial(n_Poblacion, poblacion)\n",
    "    progreso = []\n",
    "    progreso.append(1 / rankearCircuito(plotPoblacion)[0][1])\n",
    "    \n",
    "    for k in range(0, generaciones):\n",
    "        plotPoblacion = GeneracionDescendiente(plotPoblacion, n_Elite, p_Mutacion)\n",
    "        progreso.append(1 / rankearCircuito(plotPoblacion)[0][1])\n",
    "\n",
    "    plt.plot(progreso)\n",
    "    plt.ylabel('Distancia de Circuito')\n",
    "    plt.xlabel('Generacion')\n",
    "    plt.savefig(\"Grafico.png\") #Unblock if you want create a copy of the graph image in the folder\n",
    "    plt.show()"
   ]
  },
  {
   "cell_type": "code",
   "execution_count": null,
   "metadata": {},
   "outputs": [],
   "source": [
    "AlgoritmoPlot(poblacion, n_Poblacion, n_Elite, p_Mutacion, generaciones)"
   ]
  }
 ],
 "metadata": {
  "kernelspec": {
   "display_name": "Python 3",
   "language": "python",
   "name": "python3"
  },
  "language_info": {
   "codemirror_mode": {
    "name": "ipython",
    "version": 3
   },
   "file_extension": ".py",
   "mimetype": "text/x-python",
   "name": "python",
   "nbconvert_exporter": "python",
   "pygments_lexer": "ipython3",
   "version": "3.8.3"
  },
  "toc": {
   "base_numbering": 1,
   "nav_menu": {},
   "number_sections": true,
   "sideBar": true,
   "skip_h1_title": false,
   "title_cell": "Table of Contents",
   "title_sidebar": "Contents",
   "toc_cell": false,
   "toc_position": {},
   "toc_section_display": true,
   "toc_window_display": false
  }
 },
 "nbformat": 4,
 "nbformat_minor": 4
}
